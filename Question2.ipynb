{
 "cells": [
  {
   "cell_type": "markdown",
   "metadata": {},
   "source": [
    "# Question 2"
   ]
  },
  {
   "cell_type": "code",
   "execution_count": 110,
   "metadata": {
    "collapsed": false
   },
   "outputs": [
    {
     "name": "stdout",
     "output_type": "stream",
     "text": [
      "The names are: ['Dan', 'Bob']\n"
     ]
    }
   ],
   "source": [
    "import numpy as np\n",
    "import pandas as pd\n",
    "\n",
    "Salesperson= pd.DataFrame([{'ID': 1, 'Name' : 'Abe', 'Age:': 61, 'Salary': 140000},\n",
    "{'ID': 2, 'Name' : 'Bob', 'Age:': 34, 'Salary': 44000},\n",
    "{'ID': 5, 'Name' : 'Chris', 'Age:': 34, 'Salary': 40000},\n",
    "{'ID': 7, 'Name' : 'Dan', 'Age:': 41, 'Salary': 52000},\n",
    "{'ID': 8, 'Name' : 'Ken', 'Age:': 57, 'Salary': 115000},\n",
    "{'ID': 11, 'Name' : 'Joe', 'Age:': 38, 'Salary': 38000}])\n",
    "\n",
    "df=pd.DataFrame([\n",
    "        {'Number': 10, 'order_date': 8/2/96,'cust_id': 4, 'Salesperson_id': 2, 'Amount': 540},\n",
    "        {'Number': 20, 'order_date': 1/30/99,'cust_id': 4, 'Salesperson_id': 8, 'Amount': 1800},\n",
    "        {'Number': 30, 'order_date': 7/14/95,'cust_id': 9, 'Salesperson_id': 1, 'Amount': 460},\n",
    "        {'Number': 40, 'order_date': 1/29/98,'cust_id': 7, 'Salesperson_id': 2, 'Amount': 2400},\n",
    "        {'Number': 50, 'order_date': 2/3/98,'cust_id': 6, 'Salesperson_id': 7, 'Amount': 600},\n",
    "        {'Number': 60, 'order_date': 3/2/98,'cust_id': 6, 'Salesperson_id': 7, 'Amount': 720},\n",
    "        {'Number': 70, 'order_date': 5/6/98,'cust_id': 9, 'Salesperson_id': 7, 'Amount': 150}])\n",
    "\n",
    "\n",
    "freq=df['Salesperson_id'].value_counts()\n",
    "Ids=freq.where(freq>1).dropna()\n",
    "a=Ids.reset_index()\n",
    "\n",
    "names=[]\n",
    "for i in a['index']:\n",
    "    names.append(Salesperson['Name'].where(Salesperson['ID'] == i ).dropna().item())\n",
    "print('The names are: ' + str(names))"
   ]
  },
  {
   "cell_type": "code",
   "execution_count": null,
   "metadata": {
    "collapsed": true
   },
   "outputs": [],
   "source": []
  }
 ],
 "metadata": {
  "anaconda-cloud": {},
  "kernelspec": {
   "display_name": "Python [default]",
   "language": "python",
   "name": "python3"
  },
  "language_info": {
   "codemirror_mode": {
    "name": "ipython",
    "version": 3
   },
   "file_extension": ".py",
   "mimetype": "text/x-python",
   "name": "python",
   "nbconvert_exporter": "python",
   "pygments_lexer": "ipython3",
   "version": "3.5.2"
  }
 },
 "nbformat": 4,
 "nbformat_minor": 1
}
